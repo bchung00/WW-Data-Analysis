{
 "cells": [
  {
   "cell_type": "code",
   "execution_count": 3,
   "metadata": {},
   "outputs": [],
   "source": [
    "import requests\n",
    "import json\n",
    "import pandas as pd\n",
    "import datetime\n",
    "import math\n"
   ]
  },
  {
   "cell_type": "code",
   "execution_count": 7,
   "metadata": {},
   "outputs": [],
   "source": [
    "def pullNovelData(novelURL):\n",
    "    a,b,c,d,novel = novelURL.split('/')\n",
    "    novel_data = json.loads(requests.get(\"https://www.wuxiaworld.com/api/novels/details/{}\".format(novel)).text)\n",
    "    novel_len = len(novel_data['item']['chapterGroups'])\n",
    "    novel_df = pd.DataFrame()\n",
    "    for i in range(novel_len):\n",
    "        temp_df = pd.DataFrame(novel_data['item']['chapterGroups'][i]['chapters'])\n",
    "        frames = [novel_df, temp_df]\n",
    "        novel_df = pd.concat(frames)\n",
    "    del novel_df['isTeaser']\n",
    "    novel_df.set_index('number',inplace=True)\n",
    "    novel_df['whenToPublish'] = pd.to_datetime(novel_df['whenToPublish'],unit='s')\n",
    "    #Save as CSV\n",
    "    #novel_df.to_csv('{} chapters.csv'.format(novel))\n",
    "    \n",
    "    return novel_df"
   ]
  },
  {
   "cell_type": "code",
   "execution_count": 28,
   "metadata": {},
   "outputs": [],
   "source": [
    "def pullComments(id):\n",
    "    json_comments = json.loads(requests.get(\"https://www.wuxiaworld.com/api/comments/{}/top\".format(id)).text)\n",
    "    pages = math.ceil(json_comments['totalTopLevel']/25)\n",
    "    comments = []\n",
    "    for i in range(pages):\n",
    "        page = i + 1\n",
    "        append = json.loads(requests.get(\"https://www.wuxiaworld.com/api/comments/{}/top?page={}\".format(id,page)).text)\n",
    "        comments = comments + append['items']\n",
    "    comments = pd.DataFrame(comments)\n",
    "    #comments['timeCommented'] = pd.to_datetime(comments['timeCommented'],unit='s')\n",
    "    #comments['joinDate'] = pd.to_datetime(comments['joinDate'],unit='s')\n",
    "    #del comments['avatar']\n",
    "    #del comments['approved']\n",
    "    #del comments['deleted']\n",
    "    #del comments['children'] # ignore children\n",
    "    return comments ##list of comments\n",
    "    #return comments ## returns Data Frame of comments"
   ]
  },
  {
   "cell_type": "code",
   "execution_count": 34,
   "metadata": {},
   "outputs": [
    {
     "data": {
      "text/plain": [
       "Index(['approved', 'avatar', 'children', 'content', 'deleted', 'depth',\n",
       "       'downVotes', 'edited', 'flair', 'id', 'joinDate', 'poster', 'posterId',\n",
       "       'timeCommented', 'upVotes', 'vip'],\n",
       "      dtype='object')"
      ]
     },
     "execution_count": 34,
     "metadata": {},
     "output_type": "execute_result"
    }
   ],
   "source": [
    "pullComments(awe_data.iloc[0]['id']).columns"
   ]
  },
  {
   "cell_type": "code",
   "execution_count": null,
   "metadata": {},
   "outputs": [],
   "source": [
    "def "
   ]
  },
  {
   "cell_type": "code",
   "execution_count": 36,
   "metadata": {},
   "outputs": [],
   "source": [
    "def pullAllComments(novelDF):\n",
    "    rows, columns = novelDF.shape\n",
    "    novel_ids = novelDF['id'].tolist()\n",
    "    novel_numbers = novelDF.index.tolist()\n",
    "    columns = ['approved', 'avatar', 'children', 'content', 'deleted', 'depth',\n",
    "       'downVotes', 'edited', 'flair', 'id', 'joinDate', 'poster', 'posterId',\n",
    "       'timeCommented', 'upVotes', 'vip','chID','chNumber']\n",
    "    novel_comments = pd.DataFrame(columns=columns)\n",
    "    for i in range(rows):\n",
    "        ch_id = novel_ids[i]\n",
    "        ch_number = novel_numbers[i]\n",
    "        ch_comments = pullComments(ch_id)\n",
    "        ch_comments['chID'] = ch_id\n",
    "        ch_comments['chNumber'] = ch_number\n",
    "        novel_comments = pd.concat([novel_comments,ch_comments])\n",
    "    novel_comments.reset_index(inplace=True)\n",
    "    return novel_comments\n",
    "        "
   ]
  },
  {
   "cell_type": "code",
   "execution_count": 53,
   "metadata": {},
   "outputs": [],
   "source": [
    "sample_data = pullAllComments(awe_data.head(5))"
   ]
  },
  {
   "cell_type": "code",
   "execution_count": 40,
   "metadata": {},
   "outputs": [],
   "source": [
    "sample_data.to_excel(\"sample_data_exl.xlsx\", \"comment data\")\n"
   ]
  },
  {
   "cell_type": "code",
   "execution_count": 54,
   "metadata": {},
   "outputs": [],
   "source": [
    "def cleanComments(comments):\n",
    "    \n",
    "    # Converting from unix time stamp to regular date time.\n",
    "    comments['timeCommented'] = pd.to_datetime(comments['timeCommented'],unit='s')\n",
    "    comments['joinDate'] = pd.to_datetime(comments['joinDate'],unit='s')\n",
    "    \n",
    "    del comments['index'] # redundant index column which was associated with comment number for a specific chapter.\n",
    "    del comments['avatar']  # User avatar image is not related to goal of sentimentality analysis and image analysis is outside the scope of the project's goal.\n",
    "    del comments['approved'] # All rows are true. Useless feature.\n",
    "    del comments['deleted']  # All rows are false. Useless feature.\n",
    "    del comments['children'] # Child comments are swayed by other comments, so they add unessary complexity to the analysis.\n",
    "    del comments['depth']    # Depth is irrelevant since all commments are top level now.\n",
    "    del comments['edited']   # Whether a comment has been edited or not is irrelevant due to how the comment editing system works.\n",
    "    del comments['flair']    # too few users have flairs for this feature to be signifigant as of now. It's an interesting feature to look at once user flair functionality is expanded.\n",
    "\n",
    "    \n",
    "    # By ignoring child comments, each comment is more more like a review. "
   ]
  },
  {
   "cell_type": "code",
   "execution_count": 55,
   "metadata": {},
   "outputs": [],
   "source": [
    "cleanComments(sample_data)"
   ]
  },
  {
   "cell_type": "code",
   "execution_count": 56,
   "metadata": {},
   "outputs": [
    {
     "data": {
      "text/html": [
       "<div>\n",
       "<style scoped>\n",
       "    .dataframe tbody tr th:only-of-type {\n",
       "        vertical-align: middle;\n",
       "    }\n",
       "\n",
       "    .dataframe tbody tr th {\n",
       "        vertical-align: top;\n",
       "    }\n",
       "\n",
       "    .dataframe thead th {\n",
       "        text-align: right;\n",
       "    }\n",
       "</style>\n",
       "<table border=\"1\" class=\"dataframe\">\n",
       "  <thead>\n",
       "    <tr style=\"text-align: right;\">\n",
       "      <th></th>\n",
       "      <th>content</th>\n",
       "      <th>downVotes</th>\n",
       "      <th>id</th>\n",
       "      <th>joinDate</th>\n",
       "      <th>poster</th>\n",
       "      <th>posterId</th>\n",
       "      <th>timeCommented</th>\n",
       "      <th>upVotes</th>\n",
       "      <th>vip</th>\n",
       "      <th>chID</th>\n",
       "      <th>chNumber</th>\n",
       "    </tr>\n",
       "  </thead>\n",
       "  <tbody>\n",
       "    <tr>\n",
       "      <th>0</th>\n",
       "      <td>Eh I planned to have the first this time! \\r\\n...</td>\n",
       "      <td>0</td>\n",
       "      <td>388011</td>\n",
       "      <td>2016-06-20 14:11:41</td>\n",
       "      <td>Tsuna</td>\n",
       "      <td>6496bc35-b714-4708-945f-a65bab6c98ff</td>\n",
       "      <td>2016-12-10 14:05:01</td>\n",
       "      <td>3</td>\n",
       "      <td>False</td>\n",
       "      <td>11983</td>\n",
       "      <td>1.0</td>\n",
       "    </tr>\n",
       "    <tr>\n",
       "      <th>1</th>\n",
       "      <td>A Splendid Translation of A Will Eternal Chapt...</td>\n",
       "      <td>0</td>\n",
       "      <td>388066</td>\n",
       "      <td>2015-09-01 19:22:04</td>\n",
       "      <td>zaltrhiz</td>\n",
       "      <td>30d5304d-1fb7-46c4-b310-e285d11846b9</td>\n",
       "      <td>2016-12-10 15:12:23</td>\n",
       "      <td>3</td>\n",
       "      <td>False</td>\n",
       "      <td>11983</td>\n",
       "      <td>1.0</td>\n",
       "    </tr>\n",
       "    <tr>\n",
       "      <th>2</th>\n",
       "      <td>i'm currently studying chinese at university, ...</td>\n",
       "      <td>0</td>\n",
       "      <td>388060</td>\n",
       "      <td>2015-12-22 16:19:58</td>\n",
       "      <td>miticogiorgio</td>\n",
       "      <td>339c502b-3863-4058-a055-a95ab768383c</td>\n",
       "      <td>2016-12-10 15:05:42</td>\n",
       "      <td>2</td>\n",
       "      <td>False</td>\n",
       "      <td>11983</td>\n",
       "      <td>1.0</td>\n",
       "    </tr>\n",
       "    <tr>\n",
       "      <th>3</th>\n",
       "      <td>Yesterday I finished to reading ISSTH, wuuw~ I...</td>\n",
       "      <td>0</td>\n",
       "      <td>388125</td>\n",
       "      <td>2017-07-02 23:43:27</td>\n",
       "      <td>Feyre</td>\n",
       "      <td>86ee31f7-55a6-4d99-be91-fc75d3c7f65b</td>\n",
       "      <td>2017-09-05 21:53:51</td>\n",
       "      <td>2</td>\n",
       "      <td>False</td>\n",
       "      <td>11983</td>\n",
       "      <td>1.0</td>\n",
       "    </tr>\n",
       "    <tr>\n",
       "      <th>4</th>\n",
       "      <td>Thanks for the chapter!\\nRead about 100 chapte...</td>\n",
       "      <td>0</td>\n",
       "      <td>388005</td>\n",
       "      <td>2015-07-28 19:43:57</td>\n",
       "      <td>Danik02</td>\n",
       "      <td>022d606d-6cd8-465e-b724-54bd7b7e95d9</td>\n",
       "      <td>2016-12-10 13:58:31</td>\n",
       "      <td>1</td>\n",
       "      <td>False</td>\n",
       "      <td>11983</td>\n",
       "      <td>1.0</td>\n",
       "    </tr>\n",
       "  </tbody>\n",
       "</table>\n",
       "</div>"
      ],
      "text/plain": [
       "                                             content downVotes      id  \\\n",
       "0  Eh I planned to have the first this time! \\r\\n...         0  388011   \n",
       "1  A Splendid Translation of A Will Eternal Chapt...         0  388066   \n",
       "2  i'm currently studying chinese at university, ...         0  388060   \n",
       "3  Yesterday I finished to reading ISSTH, wuuw~ I...         0  388125   \n",
       "4  Thanks for the chapter!\\nRead about 100 chapte...         0  388005   \n",
       "\n",
       "             joinDate         poster                              posterId  \\\n",
       "0 2016-06-20 14:11:41          Tsuna  6496bc35-b714-4708-945f-a65bab6c98ff   \n",
       "1 2015-09-01 19:22:04       zaltrhiz  30d5304d-1fb7-46c4-b310-e285d11846b9   \n",
       "2 2015-12-22 16:19:58  miticogiorgio  339c502b-3863-4058-a055-a95ab768383c   \n",
       "3 2017-07-02 23:43:27          Feyre  86ee31f7-55a6-4d99-be91-fc75d3c7f65b   \n",
       "4 2015-07-28 19:43:57        Danik02  022d606d-6cd8-465e-b724-54bd7b7e95d9   \n",
       "\n",
       "        timeCommented upVotes    vip   chID  chNumber  \n",
       "0 2016-12-10 14:05:01       3  False  11983       1.0  \n",
       "1 2016-12-10 15:12:23       3  False  11983       1.0  \n",
       "2 2016-12-10 15:05:42       2  False  11983       1.0  \n",
       "3 2017-09-05 21:53:51       2  False  11983       1.0  \n",
       "4 2016-12-10 13:58:31       1  False  11983       1.0  "
      ]
     },
     "execution_count": 56,
     "metadata": {},
     "output_type": "execute_result"
    }
   ],
   "source": [
    "sample_data.head()"
   ]
  },
  {
   "cell_type": "code",
   "execution_count": 57,
   "metadata": {},
   "outputs": [],
   "source": [
    "sample_data.to_excel(\"sample_data_exl.xlsx\", \"comment data\")\n"
   ]
  },
  {
   "cell_type": "code",
   "execution_count": 59,
   "metadata": {},
   "outputs": [
    {
     "ename": "ModuleNotFoundError",
     "evalue": "No module named 'vaderSentiment'",
     "output_type": "error",
     "traceback": [
      "\u001b[1;31m---------------------------------------------------------------------------\u001b[0m",
      "\u001b[1;31mModuleNotFoundError\u001b[0m                       Traceback (most recent call last)",
      "\u001b[1;32m<ipython-input-59-ff174a3fa9f7>\u001b[0m in \u001b[0;36m<module>\u001b[1;34m()\u001b[0m\n\u001b[1;32m----> 1\u001b[1;33m \u001b[1;32mfrom\u001b[0m \u001b[0mvaderSentiment\u001b[0m\u001b[1;33m.\u001b[0m\u001b[0mvaderSentiment\u001b[0m \u001b[1;32mimport\u001b[0m \u001b[0mSentimentIntensityAnalyzer\u001b[0m\u001b[1;33m\u001b[0m\u001b[0m\n\u001b[0m\u001b[0;32m      2\u001b[0m \u001b[1;33m\u001b[0m\u001b[0m\n\u001b[0;32m      3\u001b[0m \u001b[0manalyser\u001b[0m \u001b[1;33m=\u001b[0m \u001b[0mSentimentIntensityAnalyzer\u001b[0m\u001b[1;33m(\u001b[0m\u001b[1;33m)\u001b[0m\u001b[1;33m\u001b[0m\u001b[0m\n",
      "\u001b[1;31mModuleNotFoundError\u001b[0m: No module named 'vaderSentiment'"
     ]
    }
   ],
   "source": [
    "from vaderSentiment.vaderSentiment import SentimentIntensityAnalyzer\n",
    "\n",
    "analyser = SentimentIntensityAnalyzer()"
   ]
  },
  {
   "cell_type": "code",
   "execution_count": null,
   "metadata": {},
   "outputs": [],
   "source": []
  }
 ],
 "metadata": {
  "kernelspec": {
   "display_name": "Python 3",
   "language": "python",
   "name": "python3"
  },
  "language_info": {
   "codemirror_mode": {
    "name": "ipython",
    "version": 3
   },
   "file_extension": ".py",
   "mimetype": "text/x-python",
   "name": "python",
   "nbconvert_exporter": "python",
   "pygments_lexer": "ipython3",
   "version": "3.6.4"
  }
 },
 "nbformat": 4,
 "nbformat_minor": 2
}
